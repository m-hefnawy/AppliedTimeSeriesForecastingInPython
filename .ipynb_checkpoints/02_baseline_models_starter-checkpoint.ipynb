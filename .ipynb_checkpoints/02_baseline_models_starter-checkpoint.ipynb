{
 "cells": [
  {
   "cell_type": "markdown",
   "id": "81b5c990",
   "metadata": {},
   "source": [
    "# Baseline models "
   ]
  },
  {
   "cell_type": "code",
   "execution_count": null,
   "id": "f3a64c95",
   "metadata": {},
   "outputs": [],
   "source": []
  },
  {
   "cell_type": "code",
   "execution_count": null,
   "id": "68b68f3e",
   "metadata": {},
   "outputs": [],
   "source": []
  },
  {
   "cell_type": "markdown",
   "id": "7c1bf2a5",
   "metadata": {},
   "source": [
    "## Read the data "
   ]
  },
  {
   "cell_type": "code",
   "execution_count": null,
   "id": "a1dfc207",
   "metadata": {},
   "outputs": [],
   "source": [
    "# source: https://raw.githubusercontent.com/plotly/datasets/master/monthly-milk-production-pounds.csv\n"
   ]
  },
  {
   "cell_type": "code",
   "execution_count": null,
   "id": "0d03034e",
   "metadata": {},
   "outputs": [],
   "source": []
  },
  {
   "cell_type": "markdown",
   "id": "5568955c",
   "metadata": {},
   "source": [
    "## Train/test split "
   ]
  },
  {
   "cell_type": "code",
   "execution_count": null,
   "id": "bcaad1c1",
   "metadata": {},
   "outputs": [],
   "source": []
  },
  {
   "cell_type": "code",
   "execution_count": null,
   "id": "64604e4d",
   "metadata": {},
   "outputs": [],
   "source": []
  },
  {
   "cell_type": "markdown",
   "id": "166689c6",
   "metadata": {},
   "source": [
    "## Baseline 1: Predict the mean "
   ]
  },
  {
   "cell_type": "code",
   "execution_count": null,
   "id": "1c8a543f",
   "metadata": {},
   "outputs": [],
   "source": []
  },
  {
   "cell_type": "code",
   "execution_count": null,
   "id": "24c12d27",
   "metadata": {},
   "outputs": [],
   "source": []
  },
  {
   "cell_type": "markdown",
   "id": "596ef028",
   "metadata": {},
   "source": [
    "## Baseline 2: Predict last year's mean"
   ]
  },
  {
   "cell_type": "code",
   "execution_count": null,
   "id": "dda24466",
   "metadata": {},
   "outputs": [],
   "source": []
  },
  {
   "cell_type": "code",
   "execution_count": null,
   "id": "f05f322d",
   "metadata": {},
   "outputs": [],
   "source": [
    "fig, ax = plt.subplots()\n",
    "\n",
    "ax.plot(train['Month'], train['Milk'])\n",
    "ax.plot(pred_df['Month'], pred_df['Milk'], 'b-', label='actual')\n",
    "ax.plot(pred_df['mean'], 'r--', label='mean')\n",
    "# Plot the predictions of last year's mean\n",
    "\n",
    "ax.set_xlabel('Date')\n",
    "ax.set_ylabel('Milk production (lbs/cow)')\n",
    "ax.legend(loc='best')\n",
    "\n",
    "plt.xticks(np.arange(0, 179, 12), np.arange(1962, 1977, 1))\n",
    "ax.axvspan(155, 167, color='#808080', alpha=0.2)\n",
    "\n",
    "fig.autofmt_xdate()\n",
    "plt.tight_layout()"
   ]
  },
  {
   "cell_type": "markdown",
   "id": "2d93b408",
   "metadata": {},
   "source": [
    "## Baseline 3: Predict the last known value "
   ]
  },
  {
   "cell_type": "code",
   "execution_count": null,
   "id": "717e846e",
   "metadata": {},
   "outputs": [],
   "source": []
  },
  {
   "cell_type": "code",
   "execution_count": null,
   "id": "d21b2c91",
   "metadata": {},
   "outputs": [],
   "source": [
    "fig, ax = plt.subplots()\n",
    "\n",
    "ax.plot(train['Month'], train['Milk'])\n",
    "ax.plot(pred_df['Month'], pred_df['Milk'], 'b-', label='actual')\n",
    "ax.plot(pred_df['mean'], 'r--', label='mean')\n",
    "ax.plot(pred_df['mean_last_year'], 'c-.', label='mean 1y')\n",
    "# Plot the prediction of the last known value\n",
    "\n",
    "ax.set_xlabel('Date')\n",
    "ax.set_ylabel('Milk production (lbs/cow)')\n",
    "ax.legend(loc='best')\n",
    "\n",
    "plt.xticks(np.arange(0, 179, 12), np.arange(1962, 1977, 1))\n",
    "ax.axvspan(155, 167, color='#808080', alpha=0.2)\n",
    "\n",
    "fig.autofmt_xdate()\n",
    "plt.tight_layout()"
   ]
  },
  {
   "cell_type": "markdown",
   "id": "34296400",
   "metadata": {},
   "source": [
    "## Predict the last season "
   ]
  },
  {
   "cell_type": "code",
   "execution_count": null,
   "id": "a1e0523d",
   "metadata": {},
   "outputs": [],
   "source": []
  },
  {
   "cell_type": "code",
   "execution_count": null,
   "id": "e6b3083c",
   "metadata": {},
   "outputs": [],
   "source": [
    "fig, ax = plt.subplots()\n",
    "\n",
    "ax.plot(train['Month'], train['Milk'])\n",
    "ax.plot(pred_df['Month'], pred_df['Milk'], 'b-', label='actual')\n",
    "ax.plot(pred_df['mean'], 'r--', label='mean')\n",
    "ax.plot(pred_df['mean_last_year'], 'c-.', label='mean 1y')\n",
    "ax.plot(pred_df['last'], 'm:', label='last')\n",
    "# Plot the predictions of the last season\n",
    "\n",
    "ax.set_xlabel('Date')\n",
    "ax.set_ylabel('Milk production (lbs/cow)')\n",
    "ax.legend(loc='best')\n",
    "\n",
    "plt.xticks(np.arange(0, 179, 12), np.arange(1962, 1977, 1))\n",
    "ax.axvspan(155, 167, color='#808080', alpha=0.2)\n",
    "\n",
    "fig.autofmt_xdate()\n",
    "plt.tight_layout()"
   ]
  },
  {
   "cell_type": "markdown",
   "id": "e70ab2ba",
   "metadata": {},
   "source": [
    "## Evaluation "
   ]
  },
  {
   "cell_type": "code",
   "execution_count": null,
   "id": "7f434c62",
   "metadata": {},
   "outputs": [],
   "source": []
  },
  {
   "cell_type": "code",
   "execution_count": null,
   "id": "3362183e",
   "metadata": {},
   "outputs": [],
   "source": []
  },
  {
   "cell_type": "code",
   "execution_count": null,
   "id": "2fbad842",
   "metadata": {},
   "outputs": [],
   "source": []
  }
 ],
 "metadata": {
  "kernelspec": {
   "display_name": "Python 3",
   "language": "python",
   "name": "python3"
  },
  "language_info": {
   "codemirror_mode": {
    "name": "ipython",
    "version": 3
   },
   "file_extension": ".py",
   "mimetype": "text/x-python",
   "name": "python",
   "nbconvert_exporter": "python",
   "pygments_lexer": "ipython3",
   "version": "3.7.13"
  }
 },
 "nbformat": 4,
 "nbformat_minor": 5
}
